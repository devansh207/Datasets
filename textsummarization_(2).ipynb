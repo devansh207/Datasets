{
  "nbformat": 4,
  "nbformat_minor": 0,
  "metadata": {
    "kernelspec": {
      "name": "python3",
      "display_name": "Python 3",
      "language": "python"
    },
    "language_info": {
      "name": "python",
      "version": "3.7.6",
      "mimetype": "text/x-python",
      "codemirror_mode": {
        "name": "ipython",
        "version": 3
      },
      "pygments_lexer": "ipython3",
      "nbconvert_exporter": "python",
      "file_extension": ".py"
    },
    "colab": {
      "name": "textsummarization (2).ipynb",
      "provenance": [],
      "include_colab_link": true
    }
  },
  "cells": [
    {
      "cell_type": "markdown",
      "metadata": {
        "id": "view-in-github",
        "colab_type": "text"
      },
      "source": [
        "<a href=\"https://colab.research.google.com/github/devansh207/Datasets/blob/master/textsummarization_(2).ipynb\" target=\"_parent\"><img src=\"https://colab.research.google.com/assets/colab-badge.svg\" alt=\"Open In Colab\"/></a>"
      ]
    },
    {
      "cell_type": "code",
      "metadata": {
        "_uuid": "cdaabc04-ce75-4b9f-898c-716525ce5923",
        "_cell_guid": "627eacfc-8393-419e-85ea-c0ee1b2e9fc4",
        "trusted": true,
        "id": "lCoRqEA2oCmy"
      },
      "source": [
        "import numpy as np\n",
        "import pandas as pd \n",
        "import re\n",
        "from bs4 import BeautifulSoup\n",
        "from keras.preprocessing.text import Tokenizer \n",
        "from keras.preprocessing.sequence import pad_sequences\n",
        "from nltk.corpus import stopwords\n",
        "from tensorflow.keras.layers import Input, LSTM, Embedding, Dense, Concatenate, TimeDistributed\n",
        "from tensorflow.keras.models import Model\n",
        "from tensorflow.keras.callbacks import EarlyStopping\n",
        "import warnings\n",
        "pd.set_option(\"display.max_colwidth\", 200)\n",
        "warnings.filterwarnings(\"ignore\") "
      ],
      "execution_count": null,
      "outputs": []
    },
    {
      "cell_type": "code",
      "metadata": {
        "trusted": true,
        "id": "FUlYJqeeoCm-",
        "outputId": "a3f50565-1a57-4337-c029-f4b5bc92c244"
      },
      "source": [
        "data= pd.read_csv(\"../input/amazon-fine-food-reviews/Reviews.csv\",nrows=100000,error_bad_lines=False)\n",
        "data.head(10)"
      ],
      "execution_count": null,
      "outputs": [
        {
          "output_type": "execute_result",
          "data": {
            "text/plain": [
              "   Id   ProductId          UserId                      ProfileName  \\\n",
              "0   1  B001E4KFG0  A3SGXH7AUHU8GW                       delmartian   \n",
              "1   2  B00813GRG4  A1D87F6ZCVE5NK                           dll pa   \n",
              "2   3  B000LQOCH0   ABXLMWJIXXAIN  Natalia Corres \"Natalia Corres\"   \n",
              "3   4  B000UA0QIQ  A395BORC6FGVXV                             Karl   \n",
              "4   5  B006K2ZZ7K  A1UQRSCLF8GW1T    Michael D. Bigham \"M. Wassir\"   \n",
              "5   6  B006K2ZZ7K   ADT0SRK1MGOEU                   Twoapennything   \n",
              "6   7  B006K2ZZ7K  A1SP2KVKFXXRU1                David C. Sullivan   \n",
              "7   8  B006K2ZZ7K  A3JRGQVEQN31IQ               Pamela G. Williams   \n",
              "8   9  B000E7L2R4  A1MZYO9TZK0BBI                         R. James   \n",
              "9  10  B00171APVA  A21BT40VZCCYT4                    Carol A. Reed   \n",
              "\n",
              "   HelpfulnessNumerator  HelpfulnessDenominator  Score        Time  \\\n",
              "0                     1                       1      5  1303862400   \n",
              "1                     0                       0      1  1346976000   \n",
              "2                     1                       1      4  1219017600   \n",
              "3                     3                       3      2  1307923200   \n",
              "4                     0                       0      5  1350777600   \n",
              "5                     0                       0      4  1342051200   \n",
              "6                     0                       0      5  1340150400   \n",
              "7                     0                       0      5  1336003200   \n",
              "8                     1                       1      5  1322006400   \n",
              "9                     0                       0      5  1351209600   \n",
              "\n",
              "                                         Summary  \\\n",
              "0                          Good Quality Dog Food   \n",
              "1                              Not as Advertised   \n",
              "2                          \"Delight\" says it all   \n",
              "3                                 Cough Medicine   \n",
              "4                                    Great taffy   \n",
              "5                                     Nice Taffy   \n",
              "6  Great!  Just as good as the expensive brands!   \n",
              "7                         Wonderful, tasty taffy   \n",
              "8                                     Yay Barley   \n",
              "9                               Healthy Dog Food   \n",
              "\n",
              "                                                                                                                                                                                                      Text  \n",
              "0  I have bought several of the Vitality canned dog food products and have found them all to be of good quality. The product looks more like a stew than a processed meat and it smells better. My Labr...  \n",
              "1           Product arrived labeled as Jumbo Salted Peanuts...the peanuts were actually small sized unsalted. Not sure if this was an error or if the vendor intended to represent the product as \"Jumbo\".  \n",
              "2  This is a confection that has been around a few centuries.  It is a light, pillowy citrus gelatin with nuts - in this case Filberts. And it is cut into tiny squares and then liberally coated with ...  \n",
              "3  If you are looking for the secret ingredient in Robitussin I believe I have found it.  I got this in addition to the Root Beer Extract I ordered (which was good) and made some cherry soda.  The fl...  \n",
              "4                                                             Great taffy at a great price.  There was a wide assortment of yummy taffy.  Delivery was very quick.  If your a taffy lover, this is a deal.  \n",
              "5  I got a wild hair for taffy and ordered this five pound bag. The taffy was all very enjoyable with many flavors: watermelon, root beer, melon, peppermint, grape, etc. My only complaint is there wa...  \n",
              "6  This saltwater taffy had great flavors and was very soft and chewy.  Each candy was individually wrapped well.  None of the candies were stuck together, which did happen in the expensive version, ...  \n",
              "7                                                             This taffy is so good.  It is very soft and chewy.  The flavors are amazing.  I would definitely recommend you buying it.  Very satisfying!!  \n",
              "8                                                                      Right now I'm mostly just sprouting this so my cats can eat the grass. They love it. I rotate it around with Wheatgrass and Rye too  \n",
              "9                                                                This is a very healthy dog food. Good for their digestion. Also good for small puppies. My dog eats her required amount at every feeding.  "
            ],
            "text/html": [
              "<div>\n",
              "<style scoped>\n",
              "    .dataframe tbody tr th:only-of-type {\n",
              "        vertical-align: middle;\n",
              "    }\n",
              "\n",
              "    .dataframe tbody tr th {\n",
              "        vertical-align: top;\n",
              "    }\n",
              "\n",
              "    .dataframe thead th {\n",
              "        text-align: right;\n",
              "    }\n",
              "</style>\n",
              "<table border=\"1\" class=\"dataframe\">\n",
              "  <thead>\n",
              "    <tr style=\"text-align: right;\">\n",
              "      <th></th>\n",
              "      <th>Id</th>\n",
              "      <th>ProductId</th>\n",
              "      <th>UserId</th>\n",
              "      <th>ProfileName</th>\n",
              "      <th>HelpfulnessNumerator</th>\n",
              "      <th>HelpfulnessDenominator</th>\n",
              "      <th>Score</th>\n",
              "      <th>Time</th>\n",
              "      <th>Summary</th>\n",
              "      <th>Text</th>\n",
              "    </tr>\n",
              "  </thead>\n",
              "  <tbody>\n",
              "    <tr>\n",
              "      <th>0</th>\n",
              "      <td>1</td>\n",
              "      <td>B001E4KFG0</td>\n",
              "      <td>A3SGXH7AUHU8GW</td>\n",
              "      <td>delmartian</td>\n",
              "      <td>1</td>\n",
              "      <td>1</td>\n",
              "      <td>5</td>\n",
              "      <td>1303862400</td>\n",
              "      <td>Good Quality Dog Food</td>\n",
              "      <td>I have bought several of the Vitality canned dog food products and have found them all to be of good quality. The product looks more like a stew than a processed meat and it smells better. My Labr...</td>\n",
              "    </tr>\n",
              "    <tr>\n",
              "      <th>1</th>\n",
              "      <td>2</td>\n",
              "      <td>B00813GRG4</td>\n",
              "      <td>A1D87F6ZCVE5NK</td>\n",
              "      <td>dll pa</td>\n",
              "      <td>0</td>\n",
              "      <td>0</td>\n",
              "      <td>1</td>\n",
              "      <td>1346976000</td>\n",
              "      <td>Not as Advertised</td>\n",
              "      <td>Product arrived labeled as Jumbo Salted Peanuts...the peanuts were actually small sized unsalted. Not sure if this was an error or if the vendor intended to represent the product as \"Jumbo\".</td>\n",
              "    </tr>\n",
              "    <tr>\n",
              "      <th>2</th>\n",
              "      <td>3</td>\n",
              "      <td>B000LQOCH0</td>\n",
              "      <td>ABXLMWJIXXAIN</td>\n",
              "      <td>Natalia Corres \"Natalia Corres\"</td>\n",
              "      <td>1</td>\n",
              "      <td>1</td>\n",
              "      <td>4</td>\n",
              "      <td>1219017600</td>\n",
              "      <td>\"Delight\" says it all</td>\n",
              "      <td>This is a confection that has been around a few centuries.  It is a light, pillowy citrus gelatin with nuts - in this case Filberts. And it is cut into tiny squares and then liberally coated with ...</td>\n",
              "    </tr>\n",
              "    <tr>\n",
              "      <th>3</th>\n",
              "      <td>4</td>\n",
              "      <td>B000UA0QIQ</td>\n",
              "      <td>A395BORC6FGVXV</td>\n",
              "      <td>Karl</td>\n",
              "      <td>3</td>\n",
              "      <td>3</td>\n",
              "      <td>2</td>\n",
              "      <td>1307923200</td>\n",
              "      <td>Cough Medicine</td>\n",
              "      <td>If you are looking for the secret ingredient in Robitussin I believe I have found it.  I got this in addition to the Root Beer Extract I ordered (which was good) and made some cherry soda.  The fl...</td>\n",
              "    </tr>\n",
              "    <tr>\n",
              "      <th>4</th>\n",
              "      <td>5</td>\n",
              "      <td>B006K2ZZ7K</td>\n",
              "      <td>A1UQRSCLF8GW1T</td>\n",
              "      <td>Michael D. Bigham \"M. Wassir\"</td>\n",
              "      <td>0</td>\n",
              "      <td>0</td>\n",
              "      <td>5</td>\n",
              "      <td>1350777600</td>\n",
              "      <td>Great taffy</td>\n",
              "      <td>Great taffy at a great price.  There was a wide assortment of yummy taffy.  Delivery was very quick.  If your a taffy lover, this is a deal.</td>\n",
              "    </tr>\n",
              "    <tr>\n",
              "      <th>5</th>\n",
              "      <td>6</td>\n",
              "      <td>B006K2ZZ7K</td>\n",
              "      <td>ADT0SRK1MGOEU</td>\n",
              "      <td>Twoapennything</td>\n",
              "      <td>0</td>\n",
              "      <td>0</td>\n",
              "      <td>4</td>\n",
              "      <td>1342051200</td>\n",
              "      <td>Nice Taffy</td>\n",
              "      <td>I got a wild hair for taffy and ordered this five pound bag. The taffy was all very enjoyable with many flavors: watermelon, root beer, melon, peppermint, grape, etc. My only complaint is there wa...</td>\n",
              "    </tr>\n",
              "    <tr>\n",
              "      <th>6</th>\n",
              "      <td>7</td>\n",
              "      <td>B006K2ZZ7K</td>\n",
              "      <td>A1SP2KVKFXXRU1</td>\n",
              "      <td>David C. Sullivan</td>\n",
              "      <td>0</td>\n",
              "      <td>0</td>\n",
              "      <td>5</td>\n",
              "      <td>1340150400</td>\n",
              "      <td>Great!  Just as good as the expensive brands!</td>\n",
              "      <td>This saltwater taffy had great flavors and was very soft and chewy.  Each candy was individually wrapped well.  None of the candies were stuck together, which did happen in the expensive version, ...</td>\n",
              "    </tr>\n",
              "    <tr>\n",
              "      <th>7</th>\n",
              "      <td>8</td>\n",
              "      <td>B006K2ZZ7K</td>\n",
              "      <td>A3JRGQVEQN31IQ</td>\n",
              "      <td>Pamela G. Williams</td>\n",
              "      <td>0</td>\n",
              "      <td>0</td>\n",
              "      <td>5</td>\n",
              "      <td>1336003200</td>\n",
              "      <td>Wonderful, tasty taffy</td>\n",
              "      <td>This taffy is so good.  It is very soft and chewy.  The flavors are amazing.  I would definitely recommend you buying it.  Very satisfying!!</td>\n",
              "    </tr>\n",
              "    <tr>\n",
              "      <th>8</th>\n",
              "      <td>9</td>\n",
              "      <td>B000E7L2R4</td>\n",
              "      <td>A1MZYO9TZK0BBI</td>\n",
              "      <td>R. James</td>\n",
              "      <td>1</td>\n",
              "      <td>1</td>\n",
              "      <td>5</td>\n",
              "      <td>1322006400</td>\n",
              "      <td>Yay Barley</td>\n",
              "      <td>Right now I'm mostly just sprouting this so my cats can eat the grass. They love it. I rotate it around with Wheatgrass and Rye too</td>\n",
              "    </tr>\n",
              "    <tr>\n",
              "      <th>9</th>\n",
              "      <td>10</td>\n",
              "      <td>B00171APVA</td>\n",
              "      <td>A21BT40VZCCYT4</td>\n",
              "      <td>Carol A. Reed</td>\n",
              "      <td>0</td>\n",
              "      <td>0</td>\n",
              "      <td>5</td>\n",
              "      <td>1351209600</td>\n",
              "      <td>Healthy Dog Food</td>\n",
              "      <td>This is a very healthy dog food. Good for their digestion. Also good for small puppies. My dog eats her required amount at every feeding.</td>\n",
              "    </tr>\n",
              "  </tbody>\n",
              "</table>\n",
              "</div>"
            ]
          },
          "metadata": {
            "tags": []
          },
          "execution_count": 2
        }
      ]
    },
    {
      "cell_type": "code",
      "metadata": {
        "trusted": true,
        "id": "qTxENveSoCnP",
        "outputId": "20e2a43d-d9e0-4685-ecc9-2fb24fadf7b5"
      },
      "source": [
        "data.drop_duplicates(subset=['Text'],inplace=True)  #dropping duplicates\n",
        "data.dropna(axis=0,inplace=True)   #dropping na\n",
        "data.info()"
      ],
      "execution_count": null,
      "outputs": [
        {
          "output_type": "stream",
          "text": [
            "<class 'pandas.core.frame.DataFrame'>\n",
            "Int64Index: 88421 entries, 0 to 99999\n",
            "Data columns (total 10 columns):\n",
            " #   Column                  Non-Null Count  Dtype \n",
            "---  ------                  --------------  ----- \n",
            " 0   Id                      88421 non-null  int64 \n",
            " 1   ProductId               88421 non-null  object\n",
            " 2   UserId                  88421 non-null  object\n",
            " 3   ProfileName             88421 non-null  object\n",
            " 4   HelpfulnessNumerator    88421 non-null  int64 \n",
            " 5   HelpfulnessDenominator  88421 non-null  int64 \n",
            " 6   Score                   88421 non-null  int64 \n",
            " 7   Time                    88421 non-null  int64 \n",
            " 8   Summary                 88421 non-null  object\n",
            " 9   Text                    88421 non-null  object\n",
            "dtypes: int64(5), object(5)\n",
            "memory usage: 7.4+ MB\n"
          ],
          "name": "stdout"
        }
      ]
    },
    {
      "cell_type": "code",
      "metadata": {
        "trusted": true,
        "id": "WGE6gno6oCnn"
      },
      "source": [
        "contraction_mapping = {\"ain't\": \"is not\", \"aren't\": \"are not\",\"can't\": \"cannot\", \"'cause\": \"because\", \"could've\": \"could have\", \"couldn't\": \"could not\",\n",
        "\n",
        "                           \"didn't\": \"did not\", \"doesn't\": \"does not\", \"don't\": \"do not\", \"hadn't\": \"had not\", \"hasn't\": \"has not\", \"haven't\": \"have not\",\n",
        "\n",
        "                           \"he'd\": \"he would\",\"he'll\": \"he will\", \"he's\": \"he is\", \"how'd\": \"how did\", \"how'd'y\": \"how do you\", \"how'll\": \"how will\", \"how's\": \"how is\",\n",
        "\n",
        "                           \"I'd\": \"I would\", \"I'd've\": \"I would have\", \"I'll\": \"I will\", \"I'll've\": \"I will have\",\"I'm\": \"I am\", \"I've\": \"I have\", \"i'd\": \"i would\",\n",
        "\n",
        "                           \"i'd've\": \"i would have\", \"i'll\": \"i will\",  \"i'll've\": \"i will have\",\"i'm\": \"i am\", \"i've\": \"i have\", \"isn't\": \"is not\", \"it'd\": \"it would\",\n",
        "\n",
        "                           \"it'd've\": \"it would have\", \"it'll\": \"it will\", \"it'll've\": \"it will have\",\"it's\": \"it is\", \"let's\": \"let us\", \"ma'am\": \"madam\",\n",
        "\n",
        "                           \"mayn't\": \"may not\", \"might've\": \"might have\",\"mightn't\": \"might not\",\"mightn't've\": \"might not have\", \"must've\": \"must have\",\n",
        "\n",
        "                           \"mustn't\": \"must not\", \"mustn't've\": \"must not have\", \"needn't\": \"need not\", \"needn't've\": \"need not have\",\"o'clock\": \"of the clock\",\n",
        "\n",
        "                           \"oughtn't\": \"ought not\", \"oughtn't've\": \"ought not have\", \"shan't\": \"shall not\", \"sha'n't\": \"shall not\", \"shan't've\": \"shall not have\",\n",
        "\n",
        "                           \"she'd\": \"she would\", \"she'd've\": \"she would have\", \"she'll\": \"she will\", \"she'll've\": \"she will have\", \"she's\": \"she is\",\n",
        "\n",
        "                           \"should've\": \"should have\", \"shouldn't\": \"should not\", \"shouldn't've\": \"should not have\", \"so've\": \"so have\",\"so's\": \"so as\",\n",
        "\n",
        "                           \"this's\": \"this is\",\"that'd\": \"that would\", \"that'd've\": \"that would have\", \"that's\": \"that is\", \"there'd\": \"there would\",\n",
        "\n",
        "                           \"there'd've\": \"there would have\", \"there's\": \"there is\", \"here's\": \"here is\",\"they'd\": \"they would\", \"they'd've\": \"they would have\",\n",
        "\n",
        "                           \"they'll\": \"they will\", \"they'll've\": \"they will have\", \"they're\": \"they are\", \"they've\": \"they have\", \"to've\": \"to have\",\n",
        "\n",
        "                           \"wasn't\": \"was not\", \"we'd\": \"we would\", \"we'd've\": \"we would have\", \"we'll\": \"we will\", \"we'll've\": \"we will have\", \"we're\": \"we are\",\n",
        "\n",
        "                           \"we've\": \"we have\", \"weren't\": \"were not\", \"what'll\": \"what will\", \"what'll've\": \"what will have\", \"what're\": \"what are\",\n",
        "\n",
        "                           \"what's\": \"what is\", \"what've\": \"what have\", \"when's\": \"when is\", \"when've\": \"when have\", \"where'd\": \"where did\", \"where's\": \"where is\",\n",
        "\n",
        "                           \"where've\": \"where have\", \"who'll\": \"who will\", \"who'll've\": \"who will have\", \"who's\": \"who is\", \"who've\": \"who have\",\n",
        "\n",
        "                           \"why's\": \"why is\", \"why've\": \"why have\", \"will've\": \"will have\", \"won't\": \"will not\", \"won't've\": \"will not have\",\n",
        "\n",
        "                           \"would've\": \"would have\", \"wouldn't\": \"would not\", \"wouldn't've\": \"would not have\", \"y'all\": \"you all\",\n",
        "\n",
        "                           \"y'all'd\": \"you all would\",\"y'all'd've\": \"you all would have\",\"y'all're\": \"you all are\",\"y'all've\": \"you all have\",\n",
        "\n",
        "                           \"you'd\": \"you would\", \"you'd've\": \"you would have\", \"you'll\": \"you will\", \"you'll've\": \"you will have\",\n",
        "\n",
        "                           \"you're\": \"you are\", \"you've\": \"you have\"}"
      ],
      "execution_count": null,
      "outputs": []
    },
    {
      "cell_type": "code",
      "metadata": {
        "trusted": true,
        "id": "zsZn0DqZoCn0",
        "outputId": "6e1183f2-0578-4059-be95-8b5629e97b27"
      },
      "source": [
        "data['Text'][:10]"
      ],
      "execution_count": null,
      "outputs": [
        {
          "output_type": "execute_result",
          "data": {
            "text/plain": [
              "0    I have bought several of the Vitality canned dog food products and have found them all to be of good quality. The product looks more like a stew than a processed meat and it smells better. My Labr...\n",
              "1             Product arrived labeled as Jumbo Salted Peanuts...the peanuts were actually small sized unsalted. Not sure if this was an error or if the vendor intended to represent the product as \"Jumbo\".\n",
              "2    This is a confection that has been around a few centuries.  It is a light, pillowy citrus gelatin with nuts - in this case Filberts. And it is cut into tiny squares and then liberally coated with ...\n",
              "3    If you are looking for the secret ingredient in Robitussin I believe I have found it.  I got this in addition to the Root Beer Extract I ordered (which was good) and made some cherry soda.  The fl...\n",
              "4                                                               Great taffy at a great price.  There was a wide assortment of yummy taffy.  Delivery was very quick.  If your a taffy lover, this is a deal.\n",
              "5    I got a wild hair for taffy and ordered this five pound bag. The taffy was all very enjoyable with many flavors: watermelon, root beer, melon, peppermint, grape, etc. My only complaint is there wa...\n",
              "6    This saltwater taffy had great flavors and was very soft and chewy.  Each candy was individually wrapped well.  None of the candies were stuck together, which did happen in the expensive version, ...\n",
              "7                                                               This taffy is so good.  It is very soft and chewy.  The flavors are amazing.  I would definitely recommend you buying it.  Very satisfying!!\n",
              "8                                                                        Right now I'm mostly just sprouting this so my cats can eat the grass. They love it. I rotate it around with Wheatgrass and Rye too\n",
              "9                                                                  This is a very healthy dog food. Good for their digestion. Also good for small puppies. My dog eats her required amount at every feeding.\n",
              "Name: Text, dtype: object"
            ]
          },
          "metadata": {
            "tags": []
          },
          "execution_count": 5
        }
      ]
    },
    {
      "cell_type": "code",
      "metadata": {
        "trusted": true,
        "id": "ZOtdoMxAoCn9"
      },
      "source": [
        "stop_words = set(stopwords.words('english')) \n",
        "def text_cleaner(text):\n",
        "    newString = text.lower()\n",
        "    newString = BeautifulSoup(newString, \"lxml\").text\n",
        "    newString = re.sub(r'\\([^)]*\\)', '', newString)\n",
        "    newString = re.sub('\"','', newString)\n",
        "    newString = ' '.join([contraction_mapping[t] if t in contraction_mapping else t for t in newString.split(\" \")])    \n",
        "    newString = re.sub(r\"'s\\b\",\"\",newString)\n",
        "    newString = re.sub(\"[^a-zA-Z]\", \" \", newString) \n",
        "    tokens = [w for w in newString.split() if not w in stop_words]\n",
        "    long_words=[]\n",
        "    for i in tokens:\n",
        "        if len(i)>=3:                  #removing short word\n",
        "            long_words.append(i)   \n",
        "    return (\" \".join(long_words)).strip()\n",
        "\n",
        "cleaned_text = []\n",
        "for t in data['Text']:\n",
        "    cleaned_text.append(text_cleaner(t))\n",
        "\n"
      ],
      "execution_count": null,
      "outputs": []
    },
    {
      "cell_type": "code",
      "metadata": {
        "trusted": true,
        "id": "G0-SRYDroCoD",
        "outputId": "0a8c9628-0229-4d72-bd28-c4dc0605f3fc"
      },
      "source": [
        "cleaned_text[:5]"
      ],
      "execution_count": null,
      "outputs": [
        {
          "output_type": "execute_result",
          "data": {
            "text/plain": [
              "['bought several vitality canned dog food products found good quality product looks like stew processed meat smells better labrador finicky appreciates product better',\n",
              " 'product arrived labeled jumbo salted peanuts peanuts actually small sized unsalted sure error vendor intended represent product jumbo',\n",
              " 'confection around centuries light pillowy citrus gelatin nuts case filberts cut tiny squares liberally coated powdered sugar tiny mouthful heaven chewy flavorful highly recommend yummy treat familiar story lewis lion witch wardrobe treat seduces edmund selling brother sisters witch',\n",
              " 'looking secret ingredient robitussin believe found got addition root beer extract ordered made cherry soda flavor medicinal',\n",
              " 'great taffy great price wide assortment yummy taffy delivery quick taffy lover deal']"
            ]
          },
          "metadata": {
            "tags": []
          },
          "execution_count": 7
        }
      ]
    },
    {
      "cell_type": "code",
      "metadata": {
        "trusted": true,
        "id": "2Rr4Um0woCoP",
        "outputId": "7d26b1c2-5a48-43c2-d089-8b932c47b62f"
      },
      "source": [
        "data['Summary'][:10]"
      ],
      "execution_count": null,
      "outputs": [
        {
          "output_type": "execute_result",
          "data": {
            "text/plain": [
              "0                            Good Quality Dog Food\n",
              "1                                Not as Advertised\n",
              "2                            \"Delight\" says it all\n",
              "3                                   Cough Medicine\n",
              "4                                      Great taffy\n",
              "5                                       Nice Taffy\n",
              "6    Great!  Just as good as the expensive brands!\n",
              "7                           Wonderful, tasty taffy\n",
              "8                                       Yay Barley\n",
              "9                                 Healthy Dog Food\n",
              "Name: Summary, dtype: object"
            ]
          },
          "metadata": {
            "tags": []
          },
          "execution_count": 8
        }
      ]
    },
    {
      "cell_type": "code",
      "metadata": {
        "trusted": true,
        "id": "1l2nSOYEoCoW"
      },
      "source": [
        "\n",
        "def summary_cleaner(text):\n",
        "    newString = re.sub('\"','', text)\n",
        "    newString = ' '.join([contraction_mapping[t] if t in contraction_mapping else t for t in newString.split(\" \")])    \n",
        "    newString = re.sub(r\"'s\\b\",\"\",newString)\n",
        "    newString = re.sub(\"[^a-zA-Z]\", \" \", newString)\n",
        "    newString = newString.lower()\n",
        "    tokens=newString.split()\n",
        "    newString=''\n",
        "    for i in tokens:\n",
        "        if len(i)>1:                                 \n",
        "            newString=newString+i+' '  \n",
        "    return newString\n",
        "\n",
        "#Call the above function\n",
        "cleaned_summary = []\n",
        "for t in data['Summary']:\n",
        "    cleaned_summary.append(summary_cleaner(t))\n",
        "\n",
        "data['cleaned_text']=cleaned_text\n",
        "data['cleaned_summary']=cleaned_summary\n",
        "data['cleaned_summary'].replace('', np.nan, inplace=True)\n",
        "data.dropna(axis=0,inplace=True)\n"
      ],
      "execution_count": null,
      "outputs": []
    },
    {
      "cell_type": "code",
      "metadata": {
        "trusted": true,
        "id": "hQor3w88oCoh",
        "outputId": "e500e48f-c18e-4c7a-d961-86e82b48542b"
      },
      "source": [
        "cleaned_summary[:10]"
      ],
      "execution_count": null,
      "outputs": [
        {
          "output_type": "execute_result",
          "data": {
            "text/plain": [
              "['good quality dog food ',\n",
              " 'not as advertised ',\n",
              " 'delight says it all ',\n",
              " 'cough medicine ',\n",
              " 'great taffy ',\n",
              " 'nice taffy ',\n",
              " 'great just as good as the expensive brands ',\n",
              " 'wonderful tasty taffy ',\n",
              " 'yay barley ',\n",
              " 'healthy dog food ']"
            ]
          },
          "metadata": {
            "tags": []
          },
          "execution_count": 10
        }
      ]
    },
    {
      "cell_type": "code",
      "metadata": {
        "trusted": true,
        "id": "2gkv-uCmoCoo",
        "outputId": "c23d7e1b-a8e4-4aaf-ece5-b3a4151586fa"
      },
      "source": [
        "\n",
        "import matplotlib.pyplot as plt\n",
        "\n",
        "text_word_count = []\n",
        "summary_word_count = []\n",
        "\n",
        "# populate the lists with sentence lengths\n",
        "for i in data['cleaned_text']:\n",
        "      text_word_count.append(len(i.split()))\n",
        "\n",
        "for i in data['cleaned_summary']:\n",
        "      summary_word_count.append(len(i.split()))\n",
        "\n",
        "length_df = pd.DataFrame({'text':text_word_count, 'summary':summary_word_count})\n",
        "\n",
        "length_df.hist(bins = 30)\n",
        "plt.show()"
      ],
      "execution_count": null,
      "outputs": [
        {
          "output_type": "display_data",
          "data": {
            "text/plain": [
              "<Figure size 432x288 with 2 Axes>"
            ],
            "image/png": "[encoded data removed]"
          },
          "metadata": {
            "tags": [],
            "needs_background": "light"
          }
        }
      ]
    },
    {
      "cell_type": "code",
      "metadata": {
        "trusted": true,
        "id": "dMVmneY1oCoy",
        "outputId": "6482f26d-6c1f-47b5-dc24-60d902222319"
      },
      "source": [
        "cnt=0\n",
        "for i in data['cleaned_summary']:\n",
        "    if(len(i.split())<=10):\n",
        "        cnt=cnt+1\n",
        "print(cnt/len(data['cleaned_summary']))"
      ],
      "execution_count": null,
      "outputs": [
        {
          "output_type": "stream",
          "text": [
            "0.9784385186526621\n"
          ],
          "name": "stdout"
        }
      ]
    },
    {
      "cell_type": "code",
      "metadata": {
        "trusted": true,
        "id": "0s3J00PxoCo3"
      },
      "source": [
        "max_text_len=30\n",
        "max_summary_len=10"
      ],
      "execution_count": null,
      "outputs": []
    },
    {
      "cell_type": "code",
      "metadata": {
        "trusted": true,
        "id": "5cF8x5cIoCpG"
      },
      "source": [
        "cleaned_text =np.array(data['cleaned_text'])\n",
        "cleaned_summary=np.array(data['cleaned_summary'])\n",
        "\n",
        "short_text=[]\n",
        "short_summary=[]\n",
        "\n",
        "for i in range(len(cleaned_text)):\n",
        "    if(len(cleaned_summary[i].split())<=max_summary_len and len(cleaned_text[i].split())<=max_text_len):\n",
        "        short_text.append(cleaned_text[i])\n",
        "        short_summary.append(cleaned_summary[i])\n",
        "        \n",
        "df=pd.DataFrame({'text':short_text,'summary':short_summary})"
      ],
      "execution_count": null,
      "outputs": []
    },
    {
      "cell_type": "code",
      "metadata": {
        "trusted": true,
        "id": "exxire5WoCpV"
      },
      "source": [
        "\n",
        "df['summary'] = df['summary'].apply(lambda x : 'sostok '+ x + ' eostok')"
      ],
      "execution_count": null,
      "outputs": []
    },
    {
      "cell_type": "code",
      "metadata": {
        "trusted": true,
        "id": "vd-y_lAuoCpb",
        "outputId": "75feafbb-a6e0-4026-9dc3-dd7726ae959c"
      },
      "source": [
        "df['summary'] "
      ],
      "execution_count": null,
      "outputs": [
        {
          "output_type": "execute_result",
          "data": {
            "text/plain": [
              "0                             sostok good quality dog food  eostok\n",
              "1                                 sostok not as advertised  eostok\n",
              "2                                    sostok cough medicine  eostok\n",
              "3                                       sostok great taffy  eostok\n",
              "4        sostok great just as good as the expensive brands  eostok\n",
              "                                   ...                            \n",
              "48464                                   sostok great stuff  eostok\n",
              "48465                                    sostok good stuff  eostok\n",
              "48466                                         sostok yummy  eostok\n",
              "48467                                   sostok great ramen  eostok\n",
              "48468                                         sostok spicy  eostok\n",
              "Name: summary, Length: 48469, dtype: object"
            ]
          },
          "metadata": {
            "tags": []
          },
          "execution_count": 17
        }
      ]
    },
    {
      "cell_type": "code",
      "metadata": {
        "trusted": true,
        "id": "RLa6fG2IoCph"
      },
      "source": [
        "df['summary'] = df['summary'].apply(lambda x : 'sostok '+ x + ' eostok')\n"
      ],
      "execution_count": null,
      "outputs": []
    },
    {
      "cell_type": "code",
      "metadata": {
        "trusted": true,
        "id": "zaSXKvcsoCpr"
      },
      "source": [
        "from sklearn.model_selection import train_test_split\n",
        "x_tr,x_val,y_tr,y_val=train_test_split(np.array(df['text']),np.array(df['summary']),test_size=0.1,random_state=0,shuffle=True)"
      ],
      "execution_count": null,
      "outputs": []
    },
    {
      "cell_type": "code",
      "metadata": {
        "trusted": true,
        "id": "bWjh5P9DoCp0"
      },
      "source": [
        "from keras.preprocessing.text import Tokenizer \n",
        "from keras.preprocessing.sequence import pad_sequences\n",
        "\n",
        "#prepare a tokenizer for reviews on training data\n",
        "x_tokenizer = Tokenizer() \n",
        "x_tokenizer.fit_on_texts(list(x_tr))"
      ],
      "execution_count": null,
      "outputs": []
    },
    {
      "cell_type": "code",
      "metadata": {
        "trusted": true,
        "id": "LMTN9HIAoCp8",
        "outputId": "578faf62-cb9c-43d2-d940-d539902c9e70"
      },
      "source": [
        "thresh=4\n",
        "\n",
        "cnt=0\n",
        "tot_cnt=0\n",
        "freq=0\n",
        "tot_freq=0\n",
        "\n",
        "for key,value in x_tokenizer.word_counts.items():\n",
        "    tot_cnt=tot_cnt+1\n",
        "    tot_freq=tot_freq+value\n",
        "    if(value<thresh):\n",
        "        cnt=cnt+1\n",
        "        freq=freq+value\n",
        "    \n",
        "print(\"% of rare words in vocabulary:\",(cnt/tot_cnt)*100)\n",
        "print(\"Total Coverage of rare words:\",(freq/tot_freq)*100)"
      ],
      "execution_count": null,
      "outputs": [
        {
          "output_type": "stream",
          "text": [
            "% of rare words in vocabulary: 66.20227038183695\n",
            "Total Coverage of rare words: 2.9027455018577015\n"
          ],
          "name": "stdout"
        }
      ]
    },
    {
      "cell_type": "code",
      "metadata": {
        "trusted": true,
        "id": "NbxIlAUUoCqE"
      },
      "source": [
        "#prepare a tokenizer for reviews on training data\n",
        "x_tokenizer = Tokenizer(num_words=tot_cnt-cnt) \n",
        "x_tokenizer.fit_on_texts(list(x_tr))\n",
        "\n",
        "#convert text sequences into integer sequences\n",
        "x_tr_seq    =   x_tokenizer.texts_to_sequences(x_tr) \n",
        "x_val_seq   =   x_tokenizer.texts_to_sequences(x_val)\n",
        "\n",
        "#padding zero upto maximum length\n",
        "x_tr    =   pad_sequences(x_tr_seq,  maxlen=max_text_len, padding='post')\n",
        "x_val   =   pad_sequences(x_val_seq, maxlen=max_text_len, padding='post')\n",
        "\n",
        "#size of vocabulary ( +1 for padding token)\n",
        "x_voc   =  x_tokenizer.num_words + 1"
      ],
      "execution_count": null,
      "outputs": []
    },
    {
      "cell_type": "code",
      "metadata": {
        "trusted": true,
        "id": "UAtBIl1zoCqM",
        "outputId": "6255d44a-cc5e-49b8-cae7-8492860e3823"
      },
      "source": [
        "x_voc"
      ],
      "execution_count": null,
      "outputs": [
        {
          "output_type": "execute_result",
          "data": {
            "text/plain": [
              "8516"
            ]
          },
          "metadata": {
            "tags": []
          },
          "execution_count": 23
        }
      ]
    },
    {
      "cell_type": "code",
      "metadata": {
        "trusted": true,
        "id": "DkBUgc8BoCqU"
      },
      "source": [
        "#prepare a tokenizer for reviews on training data\n",
        "y_tokenizer = Tokenizer()   \n",
        "y_tokenizer.fit_on_texts(list(y_tr))"
      ],
      "execution_count": null,
      "outputs": []
    },
    {
      "cell_type": "code",
      "metadata": {
        "trusted": true,
        "id": "tjgTO9LIoCqv",
        "outputId": "48138fe5-9512-47e0-e167-f873cfb5c4c1"
      },
      "source": [
        "thresh=6\n",
        "\n",
        "cnt=0\n",
        "tot_cnt=0\n",
        "freq=0\n",
        "tot_freq=0\n",
        "\n",
        "for key,value in y_tokenizer.word_counts.items():\n",
        "    tot_cnt=tot_cnt+1\n",
        "    tot_freq=tot_freq+value\n",
        "    if(value<thresh):\n",
        "        cnt=cnt+1\n",
        "        freq=freq+value\n",
        "    \n",
        "print(\"% of rare words in vocabulary:\",(cnt/tot_cnt)*100)\n",
        "print(\"Total Coverage of rare words:\",(freq/tot_freq)*100)"
      ],
      "execution_count": null,
      "outputs": [
        {
          "output_type": "stream",
          "text": [
            "% of rare words in vocabulary: 77.83898305084746\n",
            "Total Coverage of rare words: 5.325628678437668\n"
          ],
          "name": "stdout"
        }
      ]
    },
    {
      "cell_type": "code",
      "metadata": {
        "trusted": true,
        "id": "bw761-fYoCrI"
      },
      "source": [
        "#prepare a tokenizer for reviews on training data\n",
        "y_tokenizer = Tokenizer(num_words=tot_cnt-cnt) \n",
        "y_tokenizer.fit_on_texts(list(y_tr))\n",
        "\n",
        "#convert text sequences into integer sequences\n",
        "y_tr_seq    =   y_tokenizer.texts_to_sequences(y_tr) \n",
        "y_val_seq   =   y_tokenizer.texts_to_sequences(y_val) \n",
        "\n",
        "#padding zero upto maximum length\n",
        "y_tr    =   pad_sequences(y_tr_seq, maxlen=max_summary_len, padding='post')\n",
        "y_val   =   pad_sequences(y_val_seq, maxlen=max_summary_len, padding='post')\n",
        "\n",
        "#size of vocabulary\n",
        "y_voc  =   y_tokenizer.num_words +1"
      ],
      "execution_count": null,
      "outputs": []
    },
    {
      "cell_type": "code",
      "metadata": {
        "trusted": true,
        "id": "ThSrBcvKoCrU",
        "outputId": "32a41592-2d77-4dde-d764-64e57cbfc389"
      },
      "source": [
        "\n",
        "y_tokenizer.word_counts['sostok'],len(y_tr)"
      ],
      "execution_count": null,
      "outputs": [
        {
          "output_type": "execute_result",
          "data": {
            "text/plain": [
              "(43622, 43622)"
            ]
          },
          "metadata": {
            "tags": []
          },
          "execution_count": 27
        }
      ]
    },
    {
      "cell_type": "code",
      "metadata": {
        "trusted": true,
        "id": "ZqILhMICoCrd",
        "outputId": "38fe386c-39a4-40cd-855e-45cbf0402770"
      },
      "source": [
        "y_tr"
      ],
      "execution_count": null,
      "outputs": [
        {
          "output_type": "execute_result",
          "data": {
            "text/plain": [
              "array([[  1,  13,  34, ...,   0,   0,   0],\n",
              "       [  1,   3, 105, ...,   2,   0,   0],\n",
              "       [  1,  20, 170, ...,   0,   0,   0],\n",
              "       ...,\n",
              "       [  1, 304, 270, ...,   0,   0,   0],\n",
              "       [  1, 135,  69, ...,   0,   0,   0],\n",
              "       [  1,  20,  55, ...,   0,   0,   0]], dtype=int32)"
            ]
          },
          "metadata": {
            "tags": []
          },
          "execution_count": 36
        }
      ]
    },
    {
      "cell_type": "code",
      "metadata": {
        "trusted": true,
        "id": "txa9nE59oCri"
      },
      "source": [
        "ind=[]\n",
        "for i in range(len(y_tr)):\n",
        "    cnt=0\n",
        "    for j in y_tr[i]:\n",
        "        if j!=0:\n",
        "            cnt=cnt+1\n",
        "    if(cnt==2):\n",
        "        ind.append(i)\n",
        "\n",
        "y_tr=np.delete(y_tr,ind, axis=0)\n",
        "x_tr=np.delete(x_tr,ind, axis=0)"
      ],
      "execution_count": null,
      "outputs": []
    },
    {
      "cell_type": "code",
      "metadata": {
        "trusted": true,
        "id": "rJIQlBFnoCrm"
      },
      "source": [
        "ind=[]\n",
        "for i in range(len(y_val)):\n",
        "    cnt=0\n",
        "    for j in y_val[i]:\n",
        "        if j!=0:\n",
        "            cnt=cnt+1\n",
        "    if(cnt==2):\n",
        "        ind.append(i)\n",
        "\n",
        "y_val=np.delete(y_val,ind, axis=0)\n",
        "x_val=np.delete(x_val,ind, axis=0)"
      ],
      "execution_count": null,
      "outputs": []
    },
    {
      "cell_type": "code",
      "metadata": {
        "trusted": true,
        "id": "wh5Z16hNoCrr"
      },
      "source": [
        "import tensorflow as tf\n",
        "import os\n",
        "from tensorflow.python.keras.layers import Layer\n",
        "from tensorflow.python.keras import backend as K\n",
        "\n",
        "\n",
        "class AttentionLayer(Layer):\n",
        "    \"\"\"\n",
        "    This class implements Bahdanau attention (https://arxiv.org/pdf/1409.0473.pdf).\n",
        "    There are three sets of weights introduced W_a, U_a, and V_a\n",
        "     \"\"\"\n",
        "\n",
        "    def __init__(self, **kwargs):\n",
        "        super(AttentionLayer, self).__init__(**kwargs)\n",
        "\n",
        "    def build(self, input_shape):\n",
        "        assert isinstance(input_shape, list)\n",
        "        # Create a trainable weight variable for this layer.\n",
        "\n",
        "        self.W_a = self.add_weight(name='W_a',\n",
        "                                   shape=tf.TensorShape((input_shape[0][2], input_shape[0][2])),\n",
        "                                   initializer='uniform',\n",
        "                                   trainable=True)\n",
        "        self.U_a = self.add_weight(name='U_a',\n",
        "                                   shape=tf.TensorShape((input_shape[1][2], input_shape[0][2])),\n",
        "                                   initializer='uniform',\n",
        "                                   trainable=True)\n",
        "        self.V_a = self.add_weight(name='V_a',\n",
        "                                   shape=tf.TensorShape((input_shape[0][2], 1)),\n",
        "                                   initializer='uniform',\n",
        "                                   trainable=True)\n",
        "\n",
        "        super(AttentionLayer, self).build(input_shape)  # Be sure to call this at the end\n",
        "\n",
        "    def call(self, inputs, verbose=False):\n",
        "        \"\"\"\n",
        "        inputs: [encoder_output_sequence, decoder_output_sequence]\n",
        "        \"\"\"\n",
        "        assert type(inputs) == list\n",
        "        encoder_out_seq, decoder_out_seq = inputs\n",
        "        if verbose:\n",
        "            print('encoder_out_seq>', encoder_out_seq.shape)\n",
        "            print('decoder_out_seq>', decoder_out_seq.shape)\n",
        "\n",
        "        def energy_step(inputs, states):\n",
        "            \"\"\" Step function for computing energy for a single decoder state\n",
        "            inputs: (batchsize * 1 * de_in_dim)\n",
        "            states: (batchsize * 1 * de_latent_dim)\n",
        "            \"\"\"\n",
        "\n",
        "            assert_msg = \"States must be an iterable. Got {} of type {}\".format(states, type(states))\n",
        "            assert isinstance(states, list) or isinstance(states, tuple), assert_msg\n",
        "\n",
        "            \"\"\" Some parameters required for shaping tensors\"\"\"\n",
        "            en_seq_len, en_hidden = encoder_out_seq.shape[1], encoder_out_seq.shape[2]\n",
        "            de_hidden = inputs.shape[-1]\n",
        "\n",
        "            \"\"\" Computing S.Wa where S=[s0, s1, ..., si]\"\"\"\n",
        "            # <= batch size * en_seq_len * latent_dim\n",
        "            W_a_dot_s = K.dot(encoder_out_seq, self.W_a)\n",
        "\n",
        "            \"\"\" Computing hj.Ua \"\"\"\n",
        "            U_a_dot_h = K.expand_dims(K.dot(inputs, self.U_a), 1)  # <= batch_size, 1, latent_dim\n",
        "            if verbose:\n",
        "                print('Ua.h>', U_a_dot_h.shape)\n",
        "\n",
        "            \"\"\" tanh(S.Wa + hj.Ua) \"\"\"\n",
        "            # <= batch_size*en_seq_len, latent_dim\n",
        "            Ws_plus_Uh = K.tanh(W_a_dot_s + U_a_dot_h)\n",
        "            if verbose:\n",
        "                print('Ws+Uh>', Ws_plus_Uh.shape)\n",
        "\n",
        "            \"\"\" softmax(va.tanh(S.Wa + hj.Ua)) \"\"\"\n",
        "            # <= batch_size, en_seq_len\n",
        "            e_i = K.squeeze(K.dot(Ws_plus_Uh, self.V_a), axis=-1)\n",
        "            # <= batch_size, en_seq_len\n",
        "            e_i = K.softmax(e_i)\n",
        "\n",
        "            if verbose:\n",
        "                print('ei>', e_i.shape)\n",
        "\n",
        "            return e_i, [e_i]\n",
        "\n",
        "        def context_step(inputs, states):\n",
        "            \"\"\" Step function for computing ci using ei \"\"\"\n",
        "\n",
        "            assert_msg = \"States must be an iterable. Got {} of type {}\".format(states, type(states))\n",
        "            assert isinstance(states, list) or isinstance(states, tuple), assert_msg\n",
        "\n",
        "            # <= batch_size, hidden_size\n",
        "            c_i = K.sum(encoder_out_seq * K.expand_dims(inputs, -1), axis=1)\n",
        "            if verbose:\n",
        "                print('ci>', c_i.shape)\n",
        "            return c_i, [c_i]\n",
        "\n",
        "        fake_state_c = K.sum(encoder_out_seq, axis=1)\n",
        "        fake_state_e = K.sum(encoder_out_seq, axis=2)  # <= (batch_size, enc_seq_len, latent_dim\n",
        "\n",
        "        \"\"\" Computing energy outputs \"\"\"\n",
        "        # e_outputs => (batch_size, de_seq_len, en_seq_len)\n",
        "        last_out, e_outputs, _ = K.rnn(\n",
        "            energy_step, decoder_out_seq, [fake_state_e],\n",
        "        )\n",
        "\n",
        "        \"\"\" Computing context vectors \"\"\"\n",
        "        last_out, c_outputs, _ = K.rnn(\n",
        "            context_step, e_outputs, [fake_state_c],\n",
        "        )\n",
        "\n",
        "        return c_outputs, e_outputs\n",
        "\n",
        "    def compute_output_shape(self, input_shape):\n",
        "        \"\"\" Outputs produced by the layer \"\"\"\n",
        "        return [\n",
        "            tf.TensorShape((input_shape[1][0], input_shape[1][1], input_shape[1][2])),\n",
        "            tf.TensorShape((input_shape[1][0], input_shape[1][1], input_shape[0][1]))\n",
        "        ]\n"
      ],
      "execution_count": null,
      "outputs": []
    },
    {
      "cell_type": "code",
      "metadata": {
        "trusted": true,
        "id": "XHrtx0QboCry",
        "outputId": "5933a3d6-f213-4a5e-fb85-79c68373da4a"
      },
      "source": [
        "x_voc"
      ],
      "execution_count": null,
      "outputs": [
        {
          "output_type": "execute_result",
          "data": {
            "text/plain": [
              "8516"
            ]
          },
          "metadata": {
            "tags": []
          },
          "execution_count": 33
        }
      ]
    },
    {
      "cell_type": "code",
      "metadata": {
        "trusted": true,
        "id": "nqX-iQnioCr4",
        "outputId": "fbf9c0cf-1d1c-4273-da4a-ae870c7b5783"
      },
      "source": [
        "from keras import backend as K \n",
        "K.clear_session()\n",
        "\n",
        "latent_dim = 300\n",
        "\n",
        "\n",
        "# Encoder\n",
        "encoder_inputs = Input(shape=(max_text_len,))\n",
        "\n",
        "#embedding layer\n",
        "enc_emb =  Embedding(x_voc, latent_dim,trainable=True)(encoder_inputs)\n",
        "\n",
        "#encoder lstm 1\n",
        "encoder_lstm1 = LSTM(latent_dim,return_sequences=True,return_state=True,dropout=0.4,recurrent_dropout=0.4)\n",
        "encoder_output1, state_h1, state_c1 = encoder_lstm1(enc_emb)\n",
        "\n",
        "#encoder lstm 2\n",
        "encoder_lstm2 = LSTM(latent_dim,return_sequences=True,return_state=True,dropout=0.4,recurrent_dropout=0.4)\n",
        "encoder_output2, state_h2, state_c2 = encoder_lstm2(encoder_output1)\n",
        "\n",
        "#encoder lstm 3\n",
        "encoder_lstm3=LSTM(latent_dim, return_state=True, return_sequences=True,dropout=0.4,recurrent_dropout=0.4)\n",
        "encoder_outputs, state_h, state_c= encoder_lstm3(encoder_output2)\n",
        "\n",
        "# Set up the decoder, using `encoder_states` as initial state.\n",
        "decoder_inputs = Input(shape=(None,))\n",
        "\n",
        "#embedding layer\n",
        "dec_emb_layer = Embedding(y_voc, latent_dim,trainable=True)\n",
        "dec_emb = dec_emb_layer(decoder_inputs)\n",
        "\n",
        "decoder_lstm = LSTM(latent_dim, return_sequences=True, return_state=True,dropout=0.4,recurrent_dropout=0.2)\n",
        "decoder_outputs,decoder_fwd_state, decoder_back_state = decoder_lstm(dec_emb,initial_state=[state_h, state_c])\n",
        "\n",
        "# Attention layer\n",
        "attn_layer = AttentionLayer(name='attention_layer')\n",
        "attn_out, attn_states = attn_layer([encoder_outputs, decoder_outputs])\n",
        "\n",
        "# Concat attention input and decoder LSTM output\n",
        "decoder_concat_input = Concatenate(axis=-1, name='concat_layer')([decoder_outputs, attn_out])\n",
        "\n",
        "#dense layer\n",
        "decoder_dense =  TimeDistributed(Dense(y_voc, activation='softmax'))\n",
        "decoder_outputs = decoder_dense(decoder_concat_input)\n",
        "\n",
        "# Define the model \n",
        "model = Model([encoder_inputs, decoder_inputs], decoder_outputs)\n",
        "\n",
        "model.summary()"
      ],
      "execution_count": null,
      "outputs": [
        {
          "output_type": "stream",
          "text": [
            "Model: \"functional_1\"\n",
            "__________________________________________________________________________________________________\n",
            "Layer (type)                    Output Shape         Param #     Connected to                     \n",
            "==================================================================================================\n",
            "input_1 (InputLayer)            [(None, 30)]         0                                            \n",
            "__________________________________________________________________________________________________\n",
            "embedding (Embedding)           (None, 30, 300)      2554800     input_1[0][0]                    \n",
            "__________________________________________________________________________________________________\n",
            "lstm (LSTM)                     [(None, 30, 300), (N 721200      embedding[0][0]                  \n",
            "__________________________________________________________________________________________________\n",
            "input_2 (InputLayer)            [(None, None)]       0                                            \n",
            "__________________________________________________________________________________________________\n",
            "lstm_1 (LSTM)                   [(None, 30, 300), (N 721200      lstm[0][0]                       \n",
            "__________________________________________________________________________________________________\n",
            "embedding_1 (Embedding)         (None, None, 300)    627900      input_2[0][0]                    \n",
            "__________________________________________________________________________________________________\n",
            "lstm_2 (LSTM)                   [(None, 30, 300), (N 721200      lstm_1[0][0]                     \n",
            "__________________________________________________________________________________________________\n",
            "lstm_3 (LSTM)                   [(None, None, 300),  721200      embedding_1[0][0]                \n",
            "                                                                 lstm_2[0][1]                     \n",
            "                                                                 lstm_2[0][2]                     \n",
            "__________________________________________________________________________________________________\n",
            "attention_layer (AttentionLayer ((None, None, 300),  180300      lstm_2[0][0]                     \n",
            "                                                                 lstm_3[0][0]                     \n",
            "__________________________________________________________________________________________________\n",
            "concat_layer (Concatenate)      (None, None, 600)    0           lstm_3[0][0]                     \n",
            "                                                                 attention_layer[0][0]            \n",
            "__________________________________________________________________________________________________\n",
            "time_distributed (TimeDistribut (None, None, 2093)   1257893     concat_layer[0][0]               \n",
            "==================================================================================================\n",
            "Total params: 7,505,693\n",
            "Trainable params: 7,505,693\n",
            "Non-trainable params: 0\n",
            "__________________________________________________________________________________________________\n"
          ],
          "name": "stdout"
        }
      ]
    },
    {
      "cell_type": "code",
      "metadata": {
        "trusted": true,
        "id": "1jkDlWuEoCr8"
      },
      "source": [
        "model.compile(optimizer='rmsprop', loss='sparse_categorical_crossentropy')"
      ],
      "execution_count": null,
      "outputs": []
    },
    {
      "cell_type": "code",
      "metadata": {
        "trusted": true,
        "id": "6d75ttCuoCr_"
      },
      "source": [
        "es = EarlyStopping(monitor='val_loss', mode='min', verbose=1,patience=2)"
      ],
      "execution_count": null,
      "outputs": []
    },
    {
      "cell_type": "code",
      "metadata": {
        "trusted": true,
        "id": "HOnhsERZoCsC",
        "outputId": "7186df41-d69a-4c5a-816f-8d720cadd9e2"
      },
      "source": [
        "history=model.fit([x_tr,y_tr[:,:-1]], y_tr.reshape(y_tr.shape[0],y_tr.shape[1], 1)[:,1:] ,epochs=50,callbacks=[es],batch_size=128, validation_data=([x_val,y_val[:,:-1]], y_val.reshape(y_val.shape[0],y_val.shape[1], 1)[:,1:]))"
      ],
      "execution_count": null,
      "outputs": [
        {
          "output_type": "stream",
          "text": [
            "Epoch 1/50\n",
            "333/333 [==============================] - 144s 433ms/step - loss: 2.2796 - val_loss: 2.0780\n",
            "Epoch 2/50\n",
            "333/333 [==============================] - 145s 435ms/step - loss: 1.9815 - val_loss: 1.9258\n",
            "Epoch 3/50\n",
            "333/333 [==============================] - 143s 431ms/step - loss: 1.8506 - val_loss: 1.8435\n",
            "Epoch 4/50\n",
            "333/333 [==============================] - 143s 429ms/step - loss: 1.7666 - val_loss: 1.7993\n",
            "Epoch 5/50\n",
            "333/333 [==============================] - 144s 433ms/step - loss: 1.7018 - val_loss: 1.7571\n",
            "Epoch 6/50\n",
            "333/333 [==============================] - 144s 432ms/step - loss: 1.6491 - val_loss: 1.7219\n",
            "Epoch 7/50\n",
            "333/333 [==============================] - 144s 432ms/step - loss: 1.6048 - val_loss: 1.7026\n",
            "Epoch 8/50\n",
            "333/333 [==============================] - 143s 428ms/step - loss: 1.5651 - val_loss: 1.6915\n",
            "Epoch 9/50\n",
            "333/333 [==============================] - 143s 430ms/step - loss: 1.5283 - val_loss: 1.6830\n",
            "Epoch 10/50\n",
            "333/333 [==============================] - 144s 433ms/step - loss: 1.4922 - val_loss: 1.6811\n",
            "Epoch 11/50\n",
            "333/333 [==============================] - 143s 429ms/step - loss: 1.4608 - val_loss: 1.6725\n",
            "Epoch 12/50\n",
            "333/333 [==============================] - 144s 432ms/step - loss: 1.4301 - val_loss: 1.6701\n",
            "Epoch 13/50\n",
            "333/333 [==============================] - 143s 428ms/step - loss: 1.4007 - val_loss: 1.6793\n",
            "Epoch 14/50\n",
            "333/333 [==============================] - 144s 432ms/step - loss: 1.3731 - val_loss: 1.6843\n",
            "Epoch 00014: early stopping\n"
          ],
          "name": "stdout"
        }
      ]
    },
    {
      "cell_type": "code",
      "metadata": {
        "trusted": true,
        "id": "JShNVssmoCsR"
      },
      "source": [
        "model.save('saved_model/my_model') \n"
      ],
      "execution_count": null,
      "outputs": []
    },
    {
      "cell_type": "code",
      "metadata": {
        "trusted": true,
        "id": "PXlIAOZMoCsg",
        "outputId": "393246f3-f9c5-446e-a799-47df45231256"
      },
      "source": [
        "!ls saved_model"
      ],
      "execution_count": null,
      "outputs": [
        {
          "output_type": "stream",
          "text": [
            "my_model\r\n"
          ],
          "name": "stdout"
        }
      ]
    },
    {
      "cell_type": "code",
      "metadata": {
        "trusted": true,
        "id": "p05y0csIoCsl",
        "outputId": "95795ef0-6ed5-4cec-8030-5dc5ac4c3e2d"
      },
      "source": [
        "new_model = tf.keras.models.load_model('saved_model/my_model')\n",
        "\n",
        "# Check its architecture\n",
        "new_model.summary()"
      ],
      "execution_count": null,
      "outputs": [
        {
          "output_type": "stream",
          "text": [
            "Model: \"functional_1\"\n",
            "__________________________________________________________________________________________________\n",
            "Layer (type)                    Output Shape         Param #     Connected to                     \n",
            "==================================================================================================\n",
            "input_1 (InputLayer)            [(None, 30)]         0                                            \n",
            "__________________________________________________________________________________________________\n",
            "embedding (Embedding)           (None, 30, 300)      2554800     input_1[0][0]                    \n",
            "__________________________________________________________________________________________________\n",
            "lstm (LSTM)                     [(None, 30, 300), (N 721200      embedding[0][0]                  \n",
            "__________________________________________________________________________________________________\n",
            "input_2 (InputLayer)            [(None, None)]       0                                            \n",
            "__________________________________________________________________________________________________\n",
            "lstm_1 (LSTM)                   [(None, 30, 300), (N 721200      lstm[0][0]                       \n",
            "__________________________________________________________________________________________________\n",
            "embedding_1 (Embedding)         (None, None, 300)    627900      input_2[0][0]                    \n",
            "__________________________________________________________________________________________________\n",
            "lstm_2 (LSTM)                   [(None, 30, 300), (N 721200      lstm_1[0][0]                     \n",
            "__________________________________________________________________________________________________\n",
            "lstm_3 (LSTM)                   [(None, None, 300),  721200      embedding_1[0][0]                \n",
            "                                                                 lstm_2[0][1]                     \n",
            "                                                                 lstm_2[0][2]                     \n",
            "__________________________________________________________________________________________________\n",
            "attention_layer (AttentionLayer ((None, None, 300),  180300      lstm_2[0][0]                     \n",
            "                                                                 lstm_3[0][0]                     \n",
            "__________________________________________________________________________________________________\n",
            "concat_layer (Concatenate)      (None, None, 600)    0           lstm_3[0][0]                     \n",
            "                                                                 attention_layer[0][0]            \n",
            "__________________________________________________________________________________________________\n",
            "time_distributed (TimeDistribut (None, None, 2093)   1257893     concat_layer[0][0]               \n",
            "==================================================================================================\n",
            "Total params: 7,505,693\n",
            "Trainable params: 7,505,693\n",
            "Non-trainable params: 0\n",
            "__________________________________________________________________________________________________\n"
          ],
          "name": "stdout"
        }
      ]
    },
    {
      "cell_type": "code",
      "metadata": {
        "trusted": true,
        "id": "Zbo-wuKwoCsw"
      },
      "source": [
        ""
      ],
      "execution_count": null,
      "outputs": []
    },
    {
      "cell_type": "code",
      "metadata": {
        "trusted": true,
        "id": "OjEL5SlroCs0",
        "outputId": "a87ccf3c-e59a-4118-d8db-1d21ece0c5b3"
      },
      "source": [
        "# Evaluate the restored model\n",
        "loss, acc = new_model.evaluate([x_val,y_val[:,:-1]],y_val.reshape(y_val.shape[0],y_val.shape[1], 1)[:,1:],verbose=2)\n",
        "print(acc)\n",
        "print('Restored model, accuracy: {:5.2f}%'.format(100*acc))\n",
        "print(new_model.predict([x_val,y_val[:,:-1]]).shape)"
      ],
      "execution_count": null,
      "outputs": [
        {
          "output_type": "stream",
          "text": [
            "148/148 - 5s - loss: 1.6843\n"
          ],
          "name": "stdout"
        },
        {
          "output_type": "error",
          "ename": "TypeError",
          "evalue": "cannot unpack non-iterable float object",
          "traceback": [
            "\u001b[0;31m---------------------------------------------------------------------------\u001b[0m",
            "\u001b[0;31mTypeError\u001b[0m                                 Traceback (most recent call last)",
            "\u001b[0;32m<ipython-input-66-2d63ed0ec5bf>\u001b[0m in \u001b[0;36m<module>\u001b[0;34m\u001b[0m\n\u001b[1;32m      1\u001b[0m \u001b[0;31m# Evaluate the restored model\u001b[0m\u001b[0;34m\u001b[0m\u001b[0;34m\u001b[0m\u001b[0;34m\u001b[0m\u001b[0m\n\u001b[0;32m----> 2\u001b[0;31m \u001b[0mloss\u001b[0m\u001b[0;34m,\u001b[0m \u001b[0macc\u001b[0m \u001b[0;34m=\u001b[0m \u001b[0mnew_model\u001b[0m\u001b[0;34m.\u001b[0m\u001b[0mevaluate\u001b[0m\u001b[0;34m(\u001b[0m\u001b[0;34m[\u001b[0m\u001b[0mx_val\u001b[0m\u001b[0;34m,\u001b[0m\u001b[0my_val\u001b[0m\u001b[0;34m[\u001b[0m\u001b[0;34m:\u001b[0m\u001b[0;34m,\u001b[0m\u001b[0;34m:\u001b[0m\u001b[0;34m-\u001b[0m\u001b[0;36m1\u001b[0m\u001b[0;34m]\u001b[0m\u001b[0;34m]\u001b[0m\u001b[0;34m,\u001b[0m\u001b[0my_val\u001b[0m\u001b[0;34m.\u001b[0m\u001b[0mreshape\u001b[0m\u001b[0;34m(\u001b[0m\u001b[0my_val\u001b[0m\u001b[0;34m.\u001b[0m\u001b[0mshape\u001b[0m\u001b[0;34m[\u001b[0m\u001b[0;36m0\u001b[0m\u001b[0;34m]\u001b[0m\u001b[0;34m,\u001b[0m\u001b[0my_val\u001b[0m\u001b[0;34m.\u001b[0m\u001b[0mshape\u001b[0m\u001b[0;34m[\u001b[0m\u001b[0;36m1\u001b[0m\u001b[0;34m]\u001b[0m\u001b[0;34m,\u001b[0m \u001b[0;36m1\u001b[0m\u001b[0;34m)\u001b[0m\u001b[0;34m[\u001b[0m\u001b[0;34m:\u001b[0m\u001b[0;34m,\u001b[0m\u001b[0;36m1\u001b[0m\u001b[0;34m:\u001b[0m\u001b[0;34m]\u001b[0m\u001b[0;34m,\u001b[0m\u001b[0mverbose\u001b[0m\u001b[0;34m=\u001b[0m\u001b[0;36m2\u001b[0m\u001b[0;34m)\u001b[0m\u001b[0;34m\u001b[0m\u001b[0;34m\u001b[0m\u001b[0m\n\u001b[0m\u001b[1;32m      3\u001b[0m \u001b[0mprint\u001b[0m\u001b[0;34m(\u001b[0m\u001b[0macc\u001b[0m\u001b[0;34m)\u001b[0m\u001b[0;34m\u001b[0m\u001b[0;34m\u001b[0m\u001b[0m\n\u001b[1;32m      4\u001b[0m \u001b[0mprint\u001b[0m\u001b[0;34m(\u001b[0m\u001b[0;34m'Restored model, accuracy: {:5.2f}%'\u001b[0m\u001b[0;34m.\u001b[0m\u001b[0mformat\u001b[0m\u001b[0;34m(\u001b[0m\u001b[0;36m100\u001b[0m\u001b[0;34m*\u001b[0m\u001b[0macc\u001b[0m\u001b[0;34m)\u001b[0m\u001b[0;34m)\u001b[0m\u001b[0;34m\u001b[0m\u001b[0;34m\u001b[0m\u001b[0m\n\u001b[1;32m      5\u001b[0m \u001b[0mprint\u001b[0m\u001b[0;34m(\u001b[0m\u001b[0mnew_model\u001b[0m\u001b[0;34m.\u001b[0m\u001b[0mpredict\u001b[0m\u001b[0;34m(\u001b[0m\u001b[0;34m[\u001b[0m\u001b[0mx_val\u001b[0m\u001b[0;34m,\u001b[0m\u001b[0my_val\u001b[0m\u001b[0;34m[\u001b[0m\u001b[0;34m:\u001b[0m\u001b[0;34m,\u001b[0m\u001b[0;34m:\u001b[0m\u001b[0;34m-\u001b[0m\u001b[0;36m1\u001b[0m\u001b[0;34m]\u001b[0m\u001b[0;34m]\u001b[0m\u001b[0;34m)\u001b[0m\u001b[0;34m.\u001b[0m\u001b[0mshape\u001b[0m\u001b[0;34m)\u001b[0m\u001b[0;34m\u001b[0m\u001b[0;34m\u001b[0m\u001b[0m\n",
            "\u001b[0;31mTypeError\u001b[0m: cannot unpack non-iterable float object"
          ]
        }
      ]
    },
    {
      "cell_type": "code",
      "metadata": {
        "trusted": true,
        "id": "eULa3_K1oCs5",
        "outputId": "c60a78dd-5378-40dc-a393-0a9e01562a94"
      },
      "source": [
        "from matplotlib import pyplot\n",
        "pyplot.plot(history.history['loss'], label='train')\n",
        "pyplot.plot(history.history['val_loss'], label='test')\n",
        "pyplot.legend()\n",
        "pyplot.show()"
      ],
      "execution_count": null,
      "outputs": [
        {
          "output_type": "display_data",
          "data": {
            "text/plain": [
              "<Figure size 432x288 with 1 Axes>"
            ],
            "image/png": "[encoded data removed]"
          },
          "metadata": {
            "tags": [],
            "needs_background": "light"
          }
        }
      ]
    },
    {
      "cell_type": "code",
      "metadata": {
        "trusted": true,
        "id": "N7RTeqryoCtB"
      },
      "source": [
        "reverse_target_word_index=y_tokenizer.index_word\n",
        "reverse_source_word_index=x_tokenizer.index_word\n",
        "target_word_index=y_tokenizer.word_index"
      ],
      "execution_count": null,
      "outputs": []
    },
    {
      "cell_type": "code",
      "metadata": {
        "trusted": true,
        "id": "-i3kRN0IoCtF"
      },
      "source": [
        "# Encode the input sequence to get the feature vector\n",
        "encoder_model = Model(inputs=encoder_inputs,outputs=[encoder_outputs, state_h, state_c])\n",
        "\n",
        "# Decoder setup\n",
        "# Below tensors will hold the states of the previous time step\n",
        "decoder_state_input_h = Input(shape=(latent_dim,))\n",
        "decoder_state_input_c = Input(shape=(latent_dim,))\n",
        "decoder_hidden_state_input = Input(shape=(max_text_len,latent_dim))\n",
        "\n",
        "# Get the embeddings of the decoder sequence\n",
        "dec_emb2= dec_emb_layer(decoder_inputs) \n",
        "# To predict the next word in the sequence, set the initial states to the states from the previous time step\n",
        "decoder_outputs2, state_h2, state_c2 = decoder_lstm(dec_emb2, initial_state=[decoder_state_input_h, decoder_state_input_c])\n",
        "\n",
        "#attention inference\n",
        "attn_out_inf, attn_states_inf = attn_layer([decoder_hidden_state_input, decoder_outputs2])\n",
        "decoder_inf_concat = Concatenate(axis=-1, name='concat')([decoder_outputs2, attn_out_inf])\n",
        "\n",
        "# A dense softmax layer to generate prob dist. over the target vocabulary\n",
        "decoder_outputs2 = decoder_dense(decoder_inf_concat) \n",
        "\n",
        "# Final decoder model\n",
        "decoder_model = Model(\n",
        "    [decoder_inputs] + [decoder_hidden_state_input,decoder_state_input_h, decoder_state_input_c],\n",
        "    [decoder_outputs2] + [state_h2, state_c2])"
      ],
      "execution_count": null,
      "outputs": []
    },
    {
      "cell_type": "code",
      "metadata": {
        "trusted": true,
        "id": "-aYTMU9moCtM"
      },
      "source": [
        "def decode_sequence(input_seq):\n",
        "    # Encode the input as state vectors.\n",
        "    e_out, e_h, e_c = encoder_model.predict(input_seq)\n",
        "    \n",
        "    # Generate empty target sequence of length 1.\n",
        "    target_seq = np.zeros((1,1))\n",
        "    \n",
        "    # Populate the first word of target sequence with the start word.\n",
        "    target_seq[0, 0] = target_word_index['sostok']\n",
        "\n",
        "    stop_condition = False\n",
        "    decoded_sentence = ''\n",
        "    while not stop_condition:\n",
        "      \n",
        "        output_tokens, h, c = decoder_model.predict([target_seq] + [e_out, e_h, e_c])\n",
        "\n",
        "        # Sample a token\n",
        "        sampled_token_index = np.argmax(output_tokens[0, -1, :])\n",
        "        sampled_token = reverse_target_word_index[sampled_token_index]\n",
        "        \n",
        "        if(sampled_token!='eostok'):\n",
        "            decoded_sentence += ' '+sampled_token\n",
        "\n",
        "        # Exit condition: either hit max length or find stop word.\n",
        "        if (sampled_token == 'eostok'  or len(decoded_sentence.split()) >= (max_summary_len-1)):\n",
        "            stop_condition = True\n",
        "\n",
        "        # Update the target sequence (of length 1).\n",
        "        target_seq = np.zeros((1,1))\n",
        "        target_seq[0, 0] = sampled_token_index\n",
        "\n",
        "        # Update internal states\n",
        "        e_h, e_c = h, c\n",
        "\n",
        "    return decoded_sentence"
      ],
      "execution_count": null,
      "outputs": []
    },
    {
      "cell_type": "code",
      "metadata": {
        "trusted": true,
        "id": "XKOrByxToCtU"
      },
      "source": [
        "def seq2summary(input_seq):\n",
        "    newString=''\n",
        "    for i in input_seq:\n",
        "        if((i!=0 and i!=target_word_index['sostok']) and i!=target_word_index['eostok']):\n",
        "            newString=newString+reverse_target_word_index[i]+' '\n",
        "    return newString\n",
        "\n",
        "def seq2text(input_seq):\n",
        "    newString=''\n",
        "    for i in input_seq:\n",
        "        if(i!=0):\n",
        "            newString=newString+reverse_source_word_index[i]+' '\n",
        "    return newString"
      ],
      "execution_count": null,
      "outputs": []
    },
    {
      "cell_type": "code",
      "metadata": {
        "trusted": true,
        "id": "mT2mVI1GoCte",
        "outputId": "800d010c-93b5-4e2a-de47-5966f0f86ae5"
      },
      "source": [
        "\n"
      ],
      "execution_count": null,
      "outputs": [
        {
          "output_type": "execute_result",
          "data": {
            "text/plain": [
              "array([[ 10,  12,   6, ...,   0,   0,   0],\n",
              "       [  1, 110, 180, ...,   0,   0,   0],\n",
              "       [632, 274,  12, ...,   0,   0,   0],\n",
              "       ...,\n",
              "       [134,  36, 940, ...,   0,   0,   0],\n",
              "       [ 13,   5,   9, ...,   0,   0,   0],\n",
              "       [  4, 690,  17, ...,   0,   0,   0]], dtype=int32)"
            ]
          },
          "metadata": {
            "tags": []
          },
          "execution_count": 70
        }
      ]
    },
    {
      "cell_type": "code",
      "metadata": {
        "trusted": true,
        "id": "LBh1dtQ0oCtn",
        "outputId": "5c2193c9-7ad2-4f0c-be23-cc949ffc18e9"
      },
      "source": [
        "import nltk\n",
        "\n",
        "for i in range(0,100):\n",
        "    print(\"Review:\",seq2text(x_tr[i]))\n",
        "    print(\"Original summary:\",seq2summary(y_tr[i]))\n",
        "    print(\"Predicted summary:\",decode_sequence(x_tr[i].reshape(1,max_text_len)))\n",
        "    BLEUscore = nltk.translate.bleu_score.sentence_bleu([seq2summary(y_tr[i])],decode_sequence(x_tr[i].reshape(1,max_text_len)))\n",
        "    print(BLEUscore)\n",
        "    print(\"\\n\")"
      ],
      "execution_count": null,
      "outputs": [
        {
          "output_type": "stream",
          "text": [
            "Review: tea best taste like drink muffins deserts alone afternoon strong aroma irish breakfast tea good time day \n",
            "Original summary: my favorite tea \n",
            "Predicted summary:  best tea ever\n",
            "0.27406237173280507\n",
            "\n",
            "\n",
            "Review: great tasting cereal lasting crunch whole family loves price good find larger size cheaper price costco \n",
            "Original summary: great cereal not so good price \n",
            "Predicted summary:  great cereal\n",
            "0.23816702672716314\n",
            "\n",
            "\n",
            "Review: espresso probably best latte really best latte ever remember fresh grinding brewed jura yields smooth rich mocha flavor \n",
            "Original summary: very smooth \n",
            "Predicted summary:  best coffee ever\n",
            "0.2502447384232383\n",
            "\n",
            "\n",
            "Review: picky greyhound shepherd mix loved loves bully sticks general figured would give try picky eater even like milk bones ate right \n",
            "Original summary: picky dog loves em \n",
            "Predicted summary:  dog loves them\n",
            "0.5734813492650543\n",
            "\n",
            "\n",
            "Review: coffee tastes fantastic fiance love delicious coffee great price recommend product buy \n",
            "Original summary: really like this coffee \n",
            "Predicted summary:  delicious\n",
            "0.13464790318753905\n",
            "\n",
            "\n",
            "Review: stale returnable halvah lover blow indeed \n",
            "Original summary: you gave me no joy \n",
            "Predicted summary:  stale\n",
            "0.09633212124906064\n",
            "\n",
            "\n",
            "Review: tried first time today odd aftertaste sure ordering also packaging notes need run hot water cycle making \n",
            "Original summary: ok but has funny aftertaste \n",
            "Predicted summary:  great taste\n",
            "0.1076130810069122\n",
            "\n",
            "\n",
            "Review: one best cups coffee ever smooth bitter taste like strong smooth coffee perfect cup every time \n",
            "Original summary: great coffee \n",
            "Predicted summary:  the best coffee\n",
            "0.48415247130346006\n",
            "\n",
            "\n",
            "Review: gallon snappy buttery canola oil good popcorn like movie theater type popcorn light fluffy buttery taste batch popcorn would normally take batches pop amount regular corn oil good savings taste \n",
            "Original summary: very pleased with oil \n",
            "Predicted summary:  great popcorn\n",
            "0.30749911719882217\n",
            "\n",
            "\n",
            "Review: husband absolutely loves popcorn asked order popcorn delicious ordering \n",
            "Original summary: yummy popcorn \n",
            "Predicted summary:  great popcorn\n",
            "0.5296074933406222\n",
            "\n",
            "\n",
            "Review: best taco sauce hands load find sister father hooked well \n",
            "Original summary: tacos are not the same without it \n",
            "Predicted summary:  the best\n",
            "0.03121090053396514\n",
            "\n",
            "\n",
            "Review: wonderful month old loves crunch reviews say smell bad little girls favorite snack \n",
            "Original summary: great daughter loves them \n",
            "Predicted summary:  great snack\n",
            "0.14378627547545836\n",
            "\n",
            "\n",
            "Review: tried tropical pineapple delicious gave bad review tropical fruit salad becuase watermelon pineapple think two flavor see thats think probably bad product sue \n",
            "Original summary: tropical fruit \n",
            "Predicted summary:  not bad\n",
            "0.22787035171826822\n",
            "\n",
            "\n",
            "Review: product great flavor even vitamin water flavorings offer except artificial sweetener prefer using stevia products chemicals problem dissolving really cold water \n",
            "Original summary: nice flavor \n",
            "Predicted summary:  tastes great\n",
            "0.7875110621102679\n",
            "\n",
            "\n",
            "Review: love coconut water pretty expensive took chance figuring acai might pretty good tastes like kind yucky medicine take child could even choke second sip \n",
            "Original summary: yuck \n",
            "Predicted summary:  tastes like plastic\n",
            "0.6223329772884784\n",
            "\n",
            "\n",
            "Review: coffee yucky cardboard flavor coffee drinkers house none like \n",
            "Original summary: yuck \n",
            "Predicted summary:  not my favorite\n",
            "0.5946035575013605\n",
            "\n",
            "\n",
            "Review: received cases rice works chips awesome tasting great price every single bag chips crunched smashed little pieces guess bags salad chips \n",
            "Original summary: awesome taste but \n",
            "Predicted summary:  great chips\n",
            "0.2800574233800153\n",
            "\n",
            "\n",
            "Review: great product try looking good substitute fiji water cleanest taste truly believe story behind really glad gave try thanks destiny \n",
            "Original summary: great water \n",
            "Predicted summary:  great taste\n",
            "0.49616830003403634\n",
            "\n",
            "\n",
            "Review: picture almost actual size quality mackerel mostly sauce kidding size equivalent sardines \n",
            "Original summary: good but little \n",
            "Predicted summary:  not what expected\n",
            "0.41412387656655203\n",
            "\n",
            "\n",
            "Review: chips came quickly fresh really need garlic onion flavoring probably order \n",
            "Original summary: disappointed \n",
            "Predicted summary:  tasty but not great\n",
            "0.7691605673134586\n",
            "\n",
            "\n",
            "Review: never ordered cups line deceptive consumers coffee outdated mine almost year date skeptical ordering cups also way gifts hope outdated \n",
            "Original summary: deceptive \n",
            "Predicted summary:  great coffee\n",
            "0.8242367502646054\n",
            "\n",
            "\n",
            "Review: say yummy tummy whole transaction beginning end splendid thank \n",
            "Original summary: chocolates \n",
            "Predicted summary:  delicious\n",
            "0.7963580315032781\n",
            "\n",
            "\n",
            "Review: tasty tea company great customer service product healthy would recommend anyone \n",
            "Original summary: great company great product \n",
            "Predicted summary:  great tea\n",
            "0.1200036090344193\n",
            "\n",
            "\n",
            "Review: cannot beat price tastes decent impressed cup design mess buying sure \n",
            "Original summary: good value \n",
            "Predicted summary:  great coffee\n",
            "0.8242367502646054\n",
            "\n",
            "\n",
            "Review: got order quickly great however product stale take seconds pop takes twice long still many unpopped kernels bag issue brands surprised one poor quality especially since expensive brands save money \n",
            "Original summary: don waste your money \n",
            "Predicted summary:  stale\n",
            "0.0524476438328049\n",
            "\n",
            "\n",
            "Review: nice filling best taste world like trying cut calories feel like meal great choice \n",
            "Original summary: filling \n",
            "Predicted summary:  yummy\n",
            "0.45782273986766686\n",
            "\n",
            "\n",
            "Review: use plain foods mix bit hoisin sauce sweet hot dipping sauce great spring rolls whatever love stuff \n",
            "Original summary: couldn live without it \n",
            "Predicted summary:  great taste\n",
            "0.18462523228135377\n",
            "\n",
            "\n",
            "Review: unlike gluten free granola granola greasy crunchy flavorful love granola subscribed flavor amazon cheaper grocery store love variety nuts fruits great yogurt topper cereal \n",
            "Original summary: crunchy gluten free goodness \n",
            "Predicted summary:  delicious\n",
            "0.1414532665999982\n",
            "\n",
            "\n",
            "Review: hardly pumkin pie type taste flavor seasonings lots nutmeg tastes acidic recommend would return could \n",
            "Original summary: not so great \n",
            "Predicted summary:  not so good\n",
            "0.5810588684968079\n",
            "\n",
            "\n",
            "Review: colorful pink box fine tasting produced last remaining family run united states supervision fully requirements enjoy \n",
            "Original summary: they are outstanding \n",
            "Predicted summary:  the best\n",
            "0.1323184946112687\n",
            "\n",
            "\n",
            "Review: drink really good care ginger flavor great big fan ginger packets really easy keep purse could add cup wanted one \n",
            "Original summary: did not really like the flavor of this item \n",
            "Predicted summary:  great flavor\n",
            "0.05743202447753071\n",
            "\n",
            "\n",
            "Review: good cake taste great leaves gassy birthday cake hubby great sugarless always hand special desert \n",
            "Original summary: diabetic sweets \n",
            "Predicted summary:  great\n",
            "0.17066837315703817\n",
            "\n",
            "\n",
            "Review: dogs love greenies course doggies bought minpin perfect great price great product could ask \n",
            "Original summary: perfect for our little doggies \n",
            "Predicted summary:  greenies\n",
            "0.036628035632992426\n",
            "\n",
            "\n",
            "Review: taste wood respect taste like coffee roasted wood smooth detect bitterness roasting nice flavor favorite cup line old favorite donut shop pleased caribou flavors one really surprised \n",
            "Original summary: most flavor have tried \n",
            "Predicted summary:  best cup of coffee\n",
            "0.2009354186641059\n",
            "\n",
            "\n",
            "Review: mix cereal cheese hot milk son gobbles breakfast find best compared nutritional value compared rice wheat mixed grain \n",
            "Original summary: my son and this is still his breakfast \n",
            "Predicted summary:  delicious\n",
            "0.05203774866868239\n",
            "\n",
            "\n",
            "Review: product arrived early good shape peanuts tasty got gift con would say pricey site purchased quite bit cheaper com \n",
            "Original summary: pricey \n",
            "Predicted summary:  good deal\n",
            "0.668740304976422\n",
            "\n",
            "\n",
            "Review: says juice taste powdery ever glass kool aid crystal light know mean powder taste also aftertaste comes size red bull calories like \n",
            "Original summary: not so good \n",
            "Predicted summary:  not my favorite\n",
            "0.1760928267911618\n",
            "\n",
            "\n",
            "Review: love graber olives buttery tasty well worth way high price yum yum yum \n",
            "Original summary: yummy \n",
            "Predicted summary:  delicious\n",
            "0.668740304976422\n",
            "\n",
            "\n",
            "Review: taste great versatile favorite use low fat convenient substitute fatty chicken turkey made empty chicken small pot water milk warm minutes great gravy kind poultry \n",
            "Original summary: so many uses \n",
            "Predicted summary:  great\n"
          ],
          "name": "stdout"
        },
        {
          "output_type": "stream",
          "text": [
            "0.261857854688235\n",
            "\n",
            "\n",
            "Review: excellent travel quite well even tastier left car chill winter time also awesome car travelling across deep south fresh green food hard come highly addictive like crack candy \n",
            "Original summary: would give them stars if could \n",
            "Predicted summary:  perfect for\n",
            "0.1910435528672697\n",
            "\n",
            "\n",
            "Review: purchased product years dog likes treats picky says alot flavor would recommend product dog owner \n",
            "Original summary: better than ears treats \n",
            "Predicted summary:  dog treats\n",
            "0.1809795057722238\n",
            "\n",
            "\n",
            "Review: hearing much hour energy decided give try ordering amazon pleased product actual helped get daily work gave energy needed lock start get sleepy love product \n",
            "Original summary: awesome \n",
            "Predicted summary:  great product\n",
            "0.7311104457090247\n",
            "\n",
            "\n",
            "Review: australian shepard puppies love perfect size training put treat balls \n",
            "Original summary: great \n",
            "Predicted summary:  great\n",
            "0.7952707287670506\n",
            "\n",
            "\n",
            "Review: somewhat foodie food snob ghee excellent well containing health benefits ghee contain cows means fat burning cancer fighting use non milk tastes amazing buying \n",
            "Original summary: excellent product \n",
            "Predicted summary:  great product\n",
            "0.47063857795691844\n",
            "\n",
            "\n",
            "Review: anyone awsome careful though hot imagine able feel lips \n",
            "Original summary: love it \n",
            "Predicted summary:  hot water\n",
            "0.4854917717073234\n",
            "\n",
            "\n",
            "Review: bought special bags absolutely wonderful deal unfortunately like tried salt pepper original bbq salt vinegar awful loved flavors like sour cream onion chips normally sure dislike much hoping somehow return \n",
            "Original summary: edible \n",
            "Predicted summary:  too salty\n",
            "0.668740304976422\n",
            "\n",
            "\n",
            "Review: probably biggest fan stuff however batch def stale certainly enjoyable moist fashion make mystery best date cut bottom left corner cant see date ugh \n",
            "Original summary: stale \n",
            "Predicted summary:  stale\n",
            "0.7952707287670506\n",
            "\n",
            "\n",
            "Review: cookies okay flavored intense artificial flavor tasted like medicine made definitely would never buy \n",
            "Original summary: good if you like eating \n",
            "Predicted summary:  not what expected\n",
            "0.36229497879162914\n",
            "\n",
            "\n",
            "Review: husband always saying add extra butter popcorn oil adds wonderful butter taste popcorn need add additional butter much better waistline order \n",
            "Original summary: great favor and taste \n",
            "Predicted summary:  great popcorn\n",
            "0.2349651859181143\n",
            "\n",
            "\n",
            "Review: quite impressed chews dog allergic almost everything lot dental chews ingredients allergens dog loves pumpkin one also helps digestion definitely tough chew pound dog quite chewer heaven \n",
            "Original summary: great \n",
            "Predicted summary:  great product\n",
            "0.3498761149110956\n",
            "\n",
            "\n",
            "Review: good buy arrived perfect condition timely manner yes would order \n",
            "Original summary: good buy \n",
            "Predicted summary:  good\n",
            "0.31772355751081427\n",
            "\n",
            "\n",
            "Review: love water health care provider suggest patients drink least one day good hydration good skin best place purchase amazon com \n",
            "Original summary: the best coconut water \n",
            "Predicted summary:  great taste\n",
            "0.2966663169381943\n",
            "\n",
            "\n",
            "Review: easy roll mix used bread machine first rise made rolls using muffin tins oven great taste easy instructions great customer service highly recommend \n",
            "Original summary: great rolls \n",
            "Predicted summary:  great gluten free bread\n",
            "0.21451278268552823\n",
            "\n",
            "\n",
            "Review: kibble complete balanced recipe look purchase kibble important words stated written packaging kibble well made dogs love unknown many pet owners word price probably rate stars \n",
            "Original summary: chicken soup for the dog \n",
            "Predicted summary:  it is the\n",
            "0.06970452184190923\n",
            "\n",
            "\n",
            "Review: reese peanut butter eggs delivered chocolate melted amazon sell chocolate items unless guarantee delivered unmelted never buy anything chocolate \n",
            "Original summary: peanut butter eggs \n",
            "Predicted summary:  melted\n",
            "0.10004556682026908\n",
            "\n",
            "\n",
            "Review: many different people family tried coffee yet anyone mild easy drink filter packs easy store threw freezer would recommend reclosable bags packs use ziplock bag \n",
            "Original summary: very good coffee at decent price \n",
            "Predicted summary:  great coffee\n",
            "0.13656034277427168\n",
            "\n",
            "\n",
            "Review: satisfied order amazed well plants packed everything excellant condition sure purchase job well done \n",
            "Original summary: lucky \n",
            "Predicted summary:  exactly what wanted\n",
            "0.32030896835479866\n",
            "\n",
            "\n",
            "Review: nice flavor far goes compared coffee could tell difference less acid could tell tasted like regular coffee bad taste \n",
            "Original summary: nice flavor \n",
            "Predicted summary:  good but not great\n",
            "0.7790872728179328\n",
            "\n",
            "\n",
            "Review: favorite cup coffee wonderful aroma pleasantly sweet taste nice mild coffee would definitely recommend one \n",
            "Original summary: mild pleasantly sweet \n",
            "Predicted summary:  great coffee\n",
            "0.3031155828410133\n",
            "\n",
            "\n",
            "Review: used product skin breaking terribly great opens pours toxins bottle lasts two months ill buying \n",
            "Original summary: amazing \n",
            "Predicted summary:  great product\n",
            "0.6803749333171202\n",
            "\n",
            "\n",
            "Review: feeding two labradors food yrs well older lab seems thrive despite level arthritis hips still active mean canidae certainly helps \n",
            "Original summary: canidae still the best \n",
            "Predicted summary:  cet chews\n",
            "0.17696465829008795\n",
            "\n",
            "\n",
            "Review: sadly cookies shipment soft buy store self fresh \n",
            "Original summary: stale cookies \n",
            "Predicted summary:  cookies\n",
            "0.4723665527410147\n",
            "\n",
            "\n",
            "Review: takes little time adjust taste health benefits well worth adjustment drink original flavored variety place artifical sweetened drinks believe lowers stress provides benefits essential triple pass user excellent product \n",
            "Original summary: up and more \n",
            "Predicted summary:  great product\n",
            "0.47156632089063605\n",
            "\n",
            "\n",
            "Review: particularly happy storage drawer made wire cups sit flat \n",
            "Original summary: cup storage drawer and twinings english breakfast tea cups \n",
            "Predicted summary:  great coffee\n",
            "0.011883562862649074\n",
            "\n",
            "\n",
            "Review: rice good nice mix jasmine basmati one jar goes long way \n",
            "Original summary: this rice is very good \n",
            "Predicted summary:  good rice\n",
            "0.24231883806668691\n",
            "\n",
            "\n",
            "Review: spoil little italian greyhound rotten although picky treats tend get tired things little far tired buy lots treats one tried true favorites \n",
            "Original summary: my loves them \n",
            "Predicted summary:  my favorite treat\n",
            "0.2797821230630072\n",
            "\n",
            "\n",
            "Review: lbs pure lab gets one meal works till eats last piece kibble toy makes tired need home \n",
            "Original summary: very good \n",
            "Predicted summary:  great for\n",
            "0.5081327481546147\n",
            "\n",
            "\n",
            "Review: dog food excellent shih tzu thriving healthier full energy allergy problems past yes little expensive well worth health pups highly recommend \n",
            "Original summary: excellent product \n",
            "Predicted summary:  great food\n",
            "0.3160928133435662\n",
            "\n",
            "\n",
            "Review: friend told great honey see old fashioned cream style huckleberry honey treat ordering neighbors christmas shipping fast \n",
            "Original summary: honey is the best \n",
            "Predicted summary:  honey\n",
            "0.1076281893274762\n",
            "\n",
            "\n",
            "Review: really enjoyed corned beef hash size makes extra large portion found ounce size also great price \n",
            "Original summary: great deal and great meal \n",
            "Predicted summary:  great product\n",
            "0.20062339189339312\n",
            "\n",
            "\n",
            "Review: confess steal melts daughter tray eating love melts daughter months old enjoys little snack made real fruit gluten free pre probiotics help digestion love \n",
            "Original summary: baby and love these \n",
            "Predicted summary:  great snack\n",
            "0.4639247374454443\n",
            "\n",
            "\n",
            "Review: addicted candy try order another batch awhile candy eat ride home work traffic keep calm \n",
            "Original summary: addicted \n",
            "Predicted summary:  my favorite\n",
            "0.44116293593227063\n",
            "\n",
            "\n",
            "Review: said tasty combination herbs open bit tastes minty sweet soothing theres tea check ingredients \n",
            "Original summary: it not tea stop this tea \n",
            "Predicted summary:  not as good as it would be\n",
            "0.2180404885569774\n",
            "\n",
            "\n",
            "Review: unfortunately package size descriptions product page wrong packages also packages packages disappointed fact tasty though shipping fast \n",
            "Original summary: misleading \n",
            "Predicted summary:  not what expected\n",
            "0.7259795291154771\n",
            "\n",
            "\n",
            "Review: wasa crisp light inside packaging cannot recycled excellent inside packaging cellophane type plastic cannot recycled anywhere six states contacted wasa revealed inside packaging made recycle \n",
            "Original summary: crisp light inside packaging cannot be \n",
            "Predicted summary:  great product\n",
            "0.10104366792399981\n",
            "\n",
            "\n",
            "Review: pre workout afternoon pick every day drink love dont know burning actual calories great energy drink jitters \n",
            "Original summary: love the flavor \n"
          ],
          "name": "stdout"
        },
        {
          "output_type": "stream",
          "text": [
            "Predicted summary:  great taste\n",
            "0.3438477603403858\n",
            "\n",
            "\n",
            "Review: brand chai tea like price unbeatable \n",
            "Original summary: yum \n",
            "Predicted summary:  great tea\n",
            "0.5623413251903491\n",
            "\n",
            "\n",
            "Review: best popcorn ever home better fresh popped elsewhere thanks good product \n",
            "Original summary: excellent popcorn \n",
            "Predicted summary:  great popcorn\n",
            "0.47063857795691844\n",
            "\n",
            "\n",
            "Review: ordered soup campbell tomato bisque price gone able get free shipping amy wow soup much better campbells texture thick quite flavorful best tomato bisque experienced definitely purchase amy \n",
            "Original summary: great tomato soup \n",
            "Predicted summary:  the best\n",
            "0.19765609300943976\n",
            "\n",
            "\n",
            "Review: perfect drink working refreshing tastes really good sounded terrible daughter first bought tasted hooked always quenches thirst beats every water ever \n",
            "Original summary: water \n",
            "Predicted summary:  great flavor\n",
            "0.42311785416105785\n",
            "\n",
            "\n",
            "Review: best cat food introduced old cat slowly much healthier coat sheds less time purchase switch flavors cats love variety great product \n",
            "Original summary: awesome cat food \n",
            "Predicted summary:  great cat food\n",
            "0.5183680512443731\n",
            "\n",
            "\n",
            "Review: stuff gold hot spicy food enthusiast put everything breakfast really think get way value hot sauce bottle basically fancy bottle hot sauce without fancy label try goes long way \n",
            "Original summary: simply amazing \n",
            "Predicted summary:  best hot sauce\n",
            "0.7186082239261684\n",
            "\n",
            "\n",
            "Review: hard time finding earl grey tea cups stores sell english breakfast really prefer earl grey best price found \n",
            "Original summary: earl grey tea \n",
            "Predicted summary:  great tea\n",
            "0.3769486629893372\n",
            "\n",
            "\n",
            "Review: happy grape leaves nice size firm torn easy work satisfied would recommend purchase \n",
            "Original summary: grape leaves lb jar dr oz \n",
            "Predicted summary:  good stuff\n",
            "0.2197707515081129\n",
            "\n",
            "\n",
            "Review: never liked plain green tea thought would try white green tea combo love health benefits great also drink better \n",
            "Original summary: the best tea \n",
            "Predicted summary:  great tea\n",
            "0.31654199979887593\n",
            "\n",
            "\n",
            "Review: neighbor split order much one person price right quality good \n",
            "Original summary: good quality and fresh \n",
            "Predicted summary:  great taste\n",
            "0.2043214064862464\n",
            "\n",
            "\n",
            "Review: love dressing good fruity flavor already recommended friends \n",
            "Original summary: tasty \n",
            "Predicted summary:  great\n",
            "0.8408964152537145\n",
            "\n",
            "\n",
            "Review: bought along years local stores flavor hit miss great hold flavor gives right amount heat food buy product run sure keep fridge freezer keep oils fresh \n",
            "Original summary: great taste \n",
            "Predicted summary:  yummy\n",
            "0.23505403213046533\n",
            "\n",
            "\n",
            "Review: kraft seems think packaging french yellow mustard new plastic squeeze bottles hole cap far big delicate dijon comes toothpaste sized little please \n",
            "Original summary: fine mustard gross container \n",
            "Predicted summary:  don waste your money\n",
            "0.47961438839716974\n",
            "\n",
            "\n",
            "Review: love blackberry flavor izze find hard locate happy find merchant able quickly supply highly recommended \n",
            "Original summary: so good \n",
            "Predicted summary:  love this stuff\n",
            "0.7071067811865476\n",
            "\n",
            "\n",
            "Review: lab absolutely loves toy acts like puppy plays \n",
            "Original summary: buddy tug jug \n",
            "Predicted summary:  my dog loves it\n",
            "0.4914498405430853\n",
            "\n",
            "\n",
            "Review: green mountain dark magic favorite cup coffee two cups make perfect wake three cups totally caffeine tight rest day \n",
            "Original summary: dark magic has real caffeine kick \n",
            "Predicted summary:  best coffee\n",
            "0.06046316932996945\n",
            "\n",
            "\n",
            "Review: son eaten cereal since months old absolutely loves cereal consistency grainy mushy like cereals tried give cereals tell difference also promotes healthy tract great son get constipated time time \n",
            "Original summary: great product \n",
            "Predicted summary:  great cereal\n",
            "0.38999752528799086\n",
            "\n",
            "\n",
            "Review: popcorn great even comes smart pop lower calories always grandkids \n",
            "Original summary: great flavor \n",
            "Predicted summary:  great popcorn\n",
            "0.4052587697205425\n",
            "\n",
            "\n",
            "Review: boston terriers destroy every toy get paws even ones made tough chewers dental dinos best things ever last forever least feel getting worth highly recommend \n",
            "Original summary: for tough chewers \n",
            "Predicted summary:  my dog loves these\n",
            "0.557342239650556\n",
            "\n",
            "\n",
            "Review: one broken received product cannot return product get refund rip \n",
            "Original summary: high do not buy \n",
            "Predicted summary:  do not buy\n",
            "0.6347364189402819\n",
            "\n",
            "\n",
            "Review: tried many types brands sunflower seeds melissa produce best shared seeds friends agree \n",
            "Original summary: the best tasting sunflower seeds hands down \n",
            "Predicted summary:  yummy\n",
            "0.0013495468554613067\n",
            "\n",
            "\n",
            "Review: dogs thought quite treat large dogs pleased long lasted \n",
            "Original summary: beef \n",
            "Predicted summary:  dogs love them\n",
            "0.668740304976422\n",
            "\n",
            "\n",
            "Review: arrived dogs smelling box knew hear bag opening come running take room like stick dogs keeps quiet calm great reward \n",
            "Original summary: my dogs go crazy for them and the chicken \n",
            "Predicted summary:  dogs love them\n",
            "0.10091060465455146\n",
            "\n",
            "\n",
            "Review: treats perfect disguise hide daily meds little plus since cost bag store price low shipping fee bargain thanks bunch \n",
            "Original summary: we love pill pockets \n",
            "Predicted summary:  greenies\n",
            "0.23818690214719165\n",
            "\n",
            "\n"
          ],
          "name": "stdout"
        }
      ]
    }
  ]
}